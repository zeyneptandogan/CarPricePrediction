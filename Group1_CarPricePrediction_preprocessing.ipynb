{
  "nbformat": 4,
  "nbformat_minor": 0,
  "metadata": {
    "colab": {
      "name": "Group1_CarPricePrediction.ipynb",
      "provenance": [],
      "collapsed_sections": []
    },
    "kernelspec": {
      "name": "python3",
      "display_name": "Python 3"
    },
    "language_info": {
      "name": "python"
    }
  },
  "cells": [
    {
      "cell_type": "code",
      "execution_count": null,
      "metadata": {
        "id": "w5qC3Erly4kE",
        "colab": {
          "base_uri": "https://localhost:8080/"
        },
        "outputId": "1399d4a8-67e4-43a2-a9b8-9a2d7b9d2e5e"
      },
      "outputs": [
        {
          "output_type": "stream",
          "name": "stdout",
          "text": [
            "Drive already mounted at /content/drive/; to attempt to forcibly remount, call drive.mount(\"/content/drive/\", force_remount=True).\n"
          ]
        }
      ],
      "source": [
        "from google.colab import drive\n",
        "drive.mount('/content/drive/') \n",
        "# click on the url that pops up and give the necessary authorizations"
      ]
    },
    {
      "cell_type": "code",
      "source": [
        "cd drive/My\\ Drive/CS\\ 412\\ -\\ Car\\ Price\\ Prediction\\ Project\\ -\\ Group\\ 1"
      ],
      "metadata": {
        "colab": {
          "base_uri": "https://localhost:8080/"
        },
        "id": "8iD3Y47L07dl",
        "outputId": "0f406d53-cf87-4f22-9c0f-549591e15e63"
      },
      "execution_count": null,
      "outputs": [
        {
          "output_type": "stream",
          "name": "stdout",
          "text": [
            "[Errno 2] No such file or directory: 'drive/My Drive/CS 412 - Car Price Prediction Project - Group 1'\n",
            "/content/drive/My Drive/CS 412 - Car Price Prediction Project - Group 1\n"
          ]
        }
      ]
    },
    {
      "cell_type": "code",
      "source": [
        "ls"
      ],
      "metadata": {
        "colab": {
          "base_uri": "https://localhost:8080/"
        },
        "id": "sod2wNBX2wcH",
        "outputId": "a5db39da-ff3c-4100-a231-4f160f4e2328"
      },
      "execution_count": null,
      "outputs": [
        {
          "output_type": "stream",
          "name": "stdout",
          "text": [
            " Group1_CarPricePrediction.ipynb\n",
            "'Group1_CarPricePrediction.ipynb adlı not defterinin kopyası'\n",
            "'output (1).xlsx'\n",
            " output.xlsx\n",
            " sample_submission.csv\n",
            " test.csv\n",
            " train.csv\n",
            " train.gsheet\n"
          ]
        }
      ]
    },
    {
      "cell_type": "code",
      "source": [
        "# Load the Pandas libraries with alias 'pd' \n",
        "import pandas as pd \n",
        "from tensorflow import keras\n",
        "import matplotlib.pyplot as plt\n",
        "import random\n",
        "import numpy as np\n",
        "from collections import Counter\n",
        "import operator\n",
        "\n",
        "df_train = pd.read_csv(\"train.csv\")\n"
      ],
      "metadata": {
        "id": "9hTh70ns3nGQ"
      },
      "execution_count": null,
      "outputs": []
    },
    {
      "cell_type": "code",
      "source": [
        "df_train"
      ],
      "metadata": {
        "colab": {
          "base_uri": "https://localhost:8080/",
          "height": 424
        },
        "id": "33zixGqs7tPy",
        "outputId": "04466e7e-7add-469f-9944-f2f43e463e1d"
      },
      "execution_count": null,
      "outputs": [
        {
          "output_type": "execute_result",
          "data": {
            "text/html": [
              "\n",
              "  <div id=\"df-bc2a6ae2-ccba-4eae-aaab-426f93a90e06\">\n",
              "    <div class=\"colab-df-container\">\n",
              "      <div>\n",
              "<style scoped>\n",
              "    .dataframe tbody tr th:only-of-type {\n",
              "        vertical-align: middle;\n",
              "    }\n",
              "\n",
              "    .dataframe tbody tr th {\n",
              "        vertical-align: top;\n",
              "    }\n",
              "\n",
              "    .dataframe thead th {\n",
              "        text-align: right;\n",
              "    }\n",
              "</style>\n",
              "<table border=\"1\" class=\"dataframe\">\n",
              "  <thead>\n",
              "    <tr style=\"text-align: right;\">\n",
              "      <th></th>\n",
              "      <th>ID</th>\n",
              "      <th>brand</th>\n",
              "      <th>model</th>\n",
              "      <th>year</th>\n",
              "      <th>transmission</th>\n",
              "      <th>mileage</th>\n",
              "      <th>fuelType</th>\n",
              "      <th>mpg</th>\n",
              "      <th>engineSize</th>\n",
              "      <th>tax</th>\n",
              "      <th>tax(£)</th>\n",
              "      <th>price</th>\n",
              "    </tr>\n",
              "  </thead>\n",
              "  <tbody>\n",
              "    <tr>\n",
              "      <th>0</th>\n",
              "      <td>0</td>\n",
              "      <td>vw</td>\n",
              "      <td>Golf</td>\n",
              "      <td>2020.0</td>\n",
              "      <td>Semi-Auto</td>\n",
              "      <td>1506.0</td>\n",
              "      <td>Petrol</td>\n",
              "      <td>32.8</td>\n",
              "      <td>2.0</td>\n",
              "      <td>145.0</td>\n",
              "      <td>NaN</td>\n",
              "      <td>34495</td>\n",
              "    </tr>\n",
              "    <tr>\n",
              "      <th>1</th>\n",
              "      <td>1</td>\n",
              "      <td>audi</td>\n",
              "      <td>A3</td>\n",
              "      <td>2014.0</td>\n",
              "      <td>Manual</td>\n",
              "      <td>48037.0</td>\n",
              "      <td>Diesel</td>\n",
              "      <td>74.3</td>\n",
              "      <td>1.6</td>\n",
              "      <td>0.0</td>\n",
              "      <td>NaN</td>\n",
              "      <td>12239</td>\n",
              "    </tr>\n",
              "    <tr>\n",
              "      <th>2</th>\n",
              "      <td>2</td>\n",
              "      <td>ford</td>\n",
              "      <td>Focus</td>\n",
              "      <td>2019.0</td>\n",
              "      <td>Automatic</td>\n",
              "      <td>7267.0</td>\n",
              "      <td>Diesel</td>\n",
              "      <td>54.3</td>\n",
              "      <td>1.5</td>\n",
              "      <td>145.0</td>\n",
              "      <td>NaN</td>\n",
              "      <td>17000</td>\n",
              "    </tr>\n",
              "    <tr>\n",
              "      <th>3</th>\n",
              "      <td>3</td>\n",
              "      <td>toyota</td>\n",
              "      <td>Yaris</td>\n",
              "      <td>2014.0</td>\n",
              "      <td>Automatic</td>\n",
              "      <td>8290.0</td>\n",
              "      <td>Hybrid</td>\n",
              "      <td>80.7</td>\n",
              "      <td>1.5</td>\n",
              "      <td>0.0</td>\n",
              "      <td>NaN</td>\n",
              "      <td>10499</td>\n",
              "    </tr>\n",
              "    <tr>\n",
              "      <th>4</th>\n",
              "      <td>4</td>\n",
              "      <td>ford</td>\n",
              "      <td>Focus</td>\n",
              "      <td>2014.0</td>\n",
              "      <td>Manual</td>\n",
              "      <td>45158.0</td>\n",
              "      <td>Petrol</td>\n",
              "      <td>56.5</td>\n",
              "      <td>1.0</td>\n",
              "      <td>30.0</td>\n",
              "      <td>NaN</td>\n",
              "      <td>7490</td>\n",
              "    </tr>\n",
              "    <tr>\n",
              "      <th>...</th>\n",
              "      <td>...</td>\n",
              "      <td>...</td>\n",
              "      <td>...</td>\n",
              "      <td>...</td>\n",
              "      <td>...</td>\n",
              "      <td>...</td>\n",
              "      <td>...</td>\n",
              "      <td>...</td>\n",
              "      <td>...</td>\n",
              "      <td>...</td>\n",
              "      <td>...</td>\n",
              "      <td>...</td>\n",
              "    </tr>\n",
              "    <tr>\n",
              "      <th>59995</th>\n",
              "      <td>59995</td>\n",
              "      <td>merc</td>\n",
              "      <td>C Class</td>\n",
              "      <td>2019.0</td>\n",
              "      <td>Semi-Auto</td>\n",
              "      <td>10577.0</td>\n",
              "      <td>Diesel</td>\n",
              "      <td>57.7</td>\n",
              "      <td>2.0</td>\n",
              "      <td>145.0</td>\n",
              "      <td>NaN</td>\n",
              "      <td>29549</td>\n",
              "    </tr>\n",
              "    <tr>\n",
              "      <th>59996</th>\n",
              "      <td>59996</td>\n",
              "      <td>vw</td>\n",
              "      <td>Golf</td>\n",
              "      <td>2016.0</td>\n",
              "      <td>Semi-Auto</td>\n",
              "      <td>47006.0</td>\n",
              "      <td>Petrol</td>\n",
              "      <td>40.4</td>\n",
              "      <td>2.0</td>\n",
              "      <td>200.0</td>\n",
              "      <td>NaN</td>\n",
              "      <td>17975</td>\n",
              "    </tr>\n",
              "    <tr>\n",
              "      <th>59997</th>\n",
              "      <td>59997</td>\n",
              "      <td>vw</td>\n",
              "      <td>Passat</td>\n",
              "      <td>2014.0</td>\n",
              "      <td>Manual</td>\n",
              "      <td>57973.0</td>\n",
              "      <td>Diesel</td>\n",
              "      <td>61.4</td>\n",
              "      <td>2.0</td>\n",
              "      <td>30.0</td>\n",
              "      <td>NaN</td>\n",
              "      <td>7750</td>\n",
              "    </tr>\n",
              "    <tr>\n",
              "      <th>59998</th>\n",
              "      <td>59998</td>\n",
              "      <td>skoda</td>\n",
              "      <td>Citigo</td>\n",
              "      <td>2017.0</td>\n",
              "      <td>Manual</td>\n",
              "      <td>36974.0</td>\n",
              "      <td>Petrol</td>\n",
              "      <td>64.2</td>\n",
              "      <td>1.0</td>\n",
              "      <td>20.0</td>\n",
              "      <td>NaN</td>\n",
              "      <td>6190</td>\n",
              "    </tr>\n",
              "    <tr>\n",
              "      <th>59999</th>\n",
              "      <td>59999</td>\n",
              "      <td>bmw</td>\n",
              "      <td>X5</td>\n",
              "      <td>2019.0</td>\n",
              "      <td>Semi-Auto</td>\n",
              "      <td>3679.0</td>\n",
              "      <td>Diesel</td>\n",
              "      <td>33.6</td>\n",
              "      <td>3.0</td>\n",
              "      <td>145.0</td>\n",
              "      <td>NaN</td>\n",
              "      <td>56995</td>\n",
              "    </tr>\n",
              "  </tbody>\n",
              "</table>\n",
              "<p>60000 rows × 12 columns</p>\n",
              "</div>\n",
              "      <button class=\"colab-df-convert\" onclick=\"convertToInteractive('df-bc2a6ae2-ccba-4eae-aaab-426f93a90e06')\"\n",
              "              title=\"Convert this dataframe to an interactive table.\"\n",
              "              style=\"display:none;\">\n",
              "        \n",
              "  <svg xmlns=\"http://www.w3.org/2000/svg\" height=\"24px\"viewBox=\"0 0 24 24\"\n",
              "       width=\"24px\">\n",
              "    <path d=\"M0 0h24v24H0V0z\" fill=\"none\"/>\n",
              "    <path d=\"M18.56 5.44l.94 2.06.94-2.06 2.06-.94-2.06-.94-.94-2.06-.94 2.06-2.06.94zm-11 1L8.5 8.5l.94-2.06 2.06-.94-2.06-.94L8.5 2.5l-.94 2.06-2.06.94zm10 10l.94 2.06.94-2.06 2.06-.94-2.06-.94-.94-2.06-.94 2.06-2.06.94z\"/><path d=\"M17.41 7.96l-1.37-1.37c-.4-.4-.92-.59-1.43-.59-.52 0-1.04.2-1.43.59L10.3 9.45l-7.72 7.72c-.78.78-.78 2.05 0 2.83L4 21.41c.39.39.9.59 1.41.59.51 0 1.02-.2 1.41-.59l7.78-7.78 2.81-2.81c.8-.78.8-2.07 0-2.86zM5.41 20L4 18.59l7.72-7.72 1.47 1.35L5.41 20z\"/>\n",
              "  </svg>\n",
              "      </button>\n",
              "      \n",
              "  <style>\n",
              "    .colab-df-container {\n",
              "      display:flex;\n",
              "      flex-wrap:wrap;\n",
              "      gap: 12px;\n",
              "    }\n",
              "\n",
              "    .colab-df-convert {\n",
              "      background-color: #E8F0FE;\n",
              "      border: none;\n",
              "      border-radius: 50%;\n",
              "      cursor: pointer;\n",
              "      display: none;\n",
              "      fill: #1967D2;\n",
              "      height: 32px;\n",
              "      padding: 0 0 0 0;\n",
              "      width: 32px;\n",
              "    }\n",
              "\n",
              "    .colab-df-convert:hover {\n",
              "      background-color: #E2EBFA;\n",
              "      box-shadow: 0px 1px 2px rgba(60, 64, 67, 0.3), 0px 1px 3px 1px rgba(60, 64, 67, 0.15);\n",
              "      fill: #174EA6;\n",
              "    }\n",
              "\n",
              "    [theme=dark] .colab-df-convert {\n",
              "      background-color: #3B4455;\n",
              "      fill: #D2E3FC;\n",
              "    }\n",
              "\n",
              "    [theme=dark] .colab-df-convert:hover {\n",
              "      background-color: #434B5C;\n",
              "      box-shadow: 0px 1px 3px 1px rgba(0, 0, 0, 0.15);\n",
              "      filter: drop-shadow(0px 1px 2px rgba(0, 0, 0, 0.3));\n",
              "      fill: #FFFFFF;\n",
              "    }\n",
              "  </style>\n",
              "\n",
              "      <script>\n",
              "        const buttonEl =\n",
              "          document.querySelector('#df-bc2a6ae2-ccba-4eae-aaab-426f93a90e06 button.colab-df-convert');\n",
              "        buttonEl.style.display =\n",
              "          google.colab.kernel.accessAllowed ? 'block' : 'none';\n",
              "\n",
              "        async function convertToInteractive(key) {\n",
              "          const element = document.querySelector('#df-bc2a6ae2-ccba-4eae-aaab-426f93a90e06');\n",
              "          const dataTable =\n",
              "            await google.colab.kernel.invokeFunction('convertToInteractive',\n",
              "                                                     [key], {});\n",
              "          if (!dataTable) return;\n",
              "\n",
              "          const docLinkHtml = 'Like what you see? Visit the ' +\n",
              "            '<a target=\"_blank\" href=https://colab.research.google.com/notebooks/data_table.ipynb>data table notebook</a>'\n",
              "            + ' to learn more about interactive tables.';\n",
              "          element.innerHTML = '';\n",
              "          dataTable['output_type'] = 'display_data';\n",
              "          await google.colab.output.renderOutput(dataTable, element);\n",
              "          const docLink = document.createElement('div');\n",
              "          docLink.innerHTML = docLinkHtml;\n",
              "          element.appendChild(docLink);\n",
              "        }\n",
              "      </script>\n",
              "    </div>\n",
              "  </div>\n",
              "  "
            ],
            "text/plain": [
              "          ID   brand     model    year  ... engineSize    tax tax(£)  price\n",
              "0          0      vw      Golf  2020.0  ...        2.0  145.0    NaN  34495\n",
              "1          1    audi        A3  2014.0  ...        1.6    0.0    NaN  12239\n",
              "2          2    ford     Focus  2019.0  ...        1.5  145.0    NaN  17000\n",
              "3          3  toyota     Yaris  2014.0  ...        1.5    0.0    NaN  10499\n",
              "4          4    ford     Focus  2014.0  ...        1.0   30.0    NaN   7490\n",
              "...      ...     ...       ...     ...  ...        ...    ...    ...    ...\n",
              "59995  59995    merc   C Class  2019.0  ...        2.0  145.0    NaN  29549\n",
              "59996  59996      vw      Golf  2016.0  ...        2.0  200.0    NaN  17975\n",
              "59997  59997      vw    Passat  2014.0  ...        2.0   30.0    NaN   7750\n",
              "59998  59998   skoda    Citigo  2017.0  ...        1.0   20.0    NaN   6190\n",
              "59999  59999     bmw        X5  2019.0  ...        3.0  145.0    NaN  56995\n",
              "\n",
              "[60000 rows x 12 columns]"
            ]
          },
          "metadata": {},
          "execution_count": 228
        }
      ]
    },
    {
      "cell_type": "code",
      "source": [
        "corr = df_train.corr()"
      ],
      "metadata": {
        "id": "q-yXf0V77xau"
      },
      "execution_count": null,
      "outputs": []
    },
    {
      "cell_type": "code",
      "source": [
        "import seaborn as sns\n",
        "\n",
        "ax = plt.subplots(figsize=(10, 8))\n",
        "ax = sns.heatmap(corr, annot=True)\n"
      ],
      "metadata": {
        "colab": {
          "base_uri": "https://localhost:8080/",
          "height": 487
        },
        "id": "hv3xOpyL8Twx",
        "outputId": "5d0cd227-b136-4391-e965-9e520b7739b1"
      },
      "execution_count": null,
      "outputs": [
        {
          "output_type": "display_data",
          "data": {
            "image/png": "[encoded data removed]",
            "text/plain": [
              "<Figure size 720x576 with 2 Axes>"
            ]
          },
          "metadata": {
            "needs_background": "light"
          }
        }
      ]
    },
    {
      "cell_type": "code",
      "source": [
        "df_train.columns"
      ],
      "metadata": {
        "colab": {
          "base_uri": "https://localhost:8080/"
        },
        "id": "grVtdhbQ8le4",
        "outputId": "2857948c-1646-405a-c8c2-ac5db20fd6d6"
      },
      "execution_count": null,
      "outputs": [
        {
          "output_type": "execute_result",
          "data": {
            "text/plain": [
              "Index(['ID', 'brand', 'model', 'year', 'transmission', 'mileage', 'fuelType',\n",
              "       'mpg', 'engineSize', 'tax', 'tax(£)', 'price'],\n",
              "      dtype='object')"
            ]
          },
          "metadata": {},
          "execution_count": 231
        }
      ]
    },
    {
      "cell_type": "code",
      "source": [
        "plt.scatter(df_train[\"price\"], df_train[\"engineSize\"])\n",
        "plt.show()"
      ],
      "metadata": {
        "colab": {
          "base_uri": "https://localhost:8080/",
          "height": 265
        },
        "id": "7RVpoN0j81x8",
        "outputId": "bef3de8f-61c2-477a-ec38-9d6991434825"
      },
      "execution_count": null,
      "outputs": [
        {
          "output_type": "display_data",
          "data": {
            "image/png": "[encoded data removed]",
            "text/plain": [
              "<Figure size 432x288 with 1 Axes>"
            ]
          },
          "metadata": {
            "needs_background": "light"
          }
        }
      ]
    },
    {
      "cell_type": "code",
      "source": [
        "df_train[[\"engineSize\"]]"
      ],
      "metadata": {
        "colab": {
          "base_uri": "https://localhost:8080/",
          "height": 424
        },
        "id": "SW5ix4s49iig",
        "outputId": "19645e23-dbcf-43d1-918c-c803a994b5dd"
      },
      "execution_count": null,
      "outputs": [
        {
          "output_type": "execute_result",
          "data": {
            "text/html": [
              "\n",
              "  <div id=\"df-791246d3-3313-4250-9828-f3d5cfdc5cee\">\n",
              "    <div class=\"colab-df-container\">\n",
              "      <div>\n",
              "<style scoped>\n",
              "    .dataframe tbody tr th:only-of-type {\n",
              "        vertical-align: middle;\n",
              "    }\n",
              "\n",
              "    .dataframe tbody tr th {\n",
              "        vertical-align: top;\n",
              "    }\n",
              "\n",
              "    .dataframe thead th {\n",
              "        text-align: right;\n",
              "    }\n",
              "</style>\n",
              "<table border=\"1\" class=\"dataframe\">\n",
              "  <thead>\n",
              "    <tr style=\"text-align: right;\">\n",
              "      <th></th>\n",
              "      <th>engineSize</th>\n",
              "    </tr>\n",
              "  </thead>\n",
              "  <tbody>\n",
              "    <tr>\n",
              "      <th>0</th>\n",
              "      <td>2.0</td>\n",
              "    </tr>\n",
              "    <tr>\n",
              "      <th>1</th>\n",
              "      <td>1.6</td>\n",
              "    </tr>\n",
              "    <tr>\n",
              "      <th>2</th>\n",
              "      <td>1.5</td>\n",
              "    </tr>\n",
              "    <tr>\n",
              "      <th>3</th>\n",
              "      <td>1.5</td>\n",
              "    </tr>\n",
              "    <tr>\n",
              "      <th>4</th>\n",
              "      <td>1.0</td>\n",
              "    </tr>\n",
              "    <tr>\n",
              "      <th>...</th>\n",
              "      <td>...</td>\n",
              "    </tr>\n",
              "    <tr>\n",
              "      <th>59995</th>\n",
              "      <td>2.0</td>\n",
              "    </tr>\n",
              "    <tr>\n",
              "      <th>59996</th>\n",
              "      <td>2.0</td>\n",
              "    </tr>\n",
              "    <tr>\n",
              "      <th>59997</th>\n",
              "      <td>2.0</td>\n",
              "    </tr>\n",
              "    <tr>\n",
              "      <th>59998</th>\n",
              "      <td>1.0</td>\n",
              "    </tr>\n",
              "    <tr>\n",
              "      <th>59999</th>\n",
              "      <td>3.0</td>\n",
              "    </tr>\n",
              "  </tbody>\n",
              "</table>\n",
              "<p>60000 rows × 1 columns</p>\n",
              "</div>\n",
              "      <button class=\"colab-df-convert\" onclick=\"convertToInteractive('df-791246d3-3313-4250-9828-f3d5cfdc5cee')\"\n",
              "              title=\"Convert this dataframe to an interactive table.\"\n",
              "              style=\"display:none;\">\n",
              "        \n",
              "  <svg xmlns=\"http://www.w3.org/2000/svg\" height=\"24px\"viewBox=\"0 0 24 24\"\n",
              "       width=\"24px\">\n",
              "    <path d=\"M0 0h24v24H0V0z\" fill=\"none\"/>\n",
              "    <path d=\"M18.56 5.44l.94 2.06.94-2.06 2.06-.94-2.06-.94-.94-2.06-.94 2.06-2.06.94zm-11 1L8.5 8.5l.94-2.06 2.06-.94-2.06-.94L8.5 2.5l-.94 2.06-2.06.94zm10 10l.94 2.06.94-2.06 2.06-.94-2.06-.94-.94-2.06-.94 2.06-2.06.94z\"/><path d=\"M17.41 7.96l-1.37-1.37c-.4-.4-.92-.59-1.43-.59-.52 0-1.04.2-1.43.59L10.3 9.45l-7.72 7.72c-.78.78-.78 2.05 0 2.83L4 21.41c.39.39.9.59 1.41.59.51 0 1.02-.2 1.41-.59l7.78-7.78 2.81-2.81c.8-.78.8-2.07 0-2.86zM5.41 20L4 18.59l7.72-7.72 1.47 1.35L5.41 20z\"/>\n",
              "  </svg>\n",
              "      </button>\n",
              "      \n",
              "  <style>\n",
              "    .colab-df-container {\n",
              "      display:flex;\n",
              "      flex-wrap:wrap;\n",
              "      gap: 12px;\n",
              "    }\n",
              "\n",
              "    .colab-df-convert {\n",
              "      background-color: #E8F0FE;\n",
              "      border: none;\n",
              "      border-radius: 50%;\n",
              "      cursor: pointer;\n",
              "      display: none;\n",
              "      fill: #1967D2;\n",
              "      height: 32px;\n",
              "      padding: 0 0 0 0;\n",
              "      width: 32px;\n",
              "    }\n",
              "\n",
              "    .colab-df-convert:hover {\n",
              "      background-color: #E2EBFA;\n",
              "      box-shadow: 0px 1px 2px rgba(60, 64, 67, 0.3), 0px 1px 3px 1px rgba(60, 64, 67, 0.15);\n",
              "      fill: #174EA6;\n",
              "    }\n",
              "\n",
              "    [theme=dark] .colab-df-convert {\n",
              "      background-color: #3B4455;\n",
              "      fill: #D2E3FC;\n",
              "    }\n",
              "\n",
              "    [theme=dark] .colab-df-convert:hover {\n",
              "      background-color: #434B5C;\n",
              "      box-shadow: 0px 1px 3px 1px rgba(0, 0, 0, 0.15);\n",
              "      filter: drop-shadow(0px 1px 2px rgba(0, 0, 0, 0.3));\n",
              "      fill: #FFFFFF;\n",
              "    }\n",
              "  </style>\n",
              "\n",
              "      <script>\n",
              "        const buttonEl =\n",
              "          document.querySelector('#df-791246d3-3313-4250-9828-f3d5cfdc5cee button.colab-df-convert');\n",
              "        buttonEl.style.display =\n",
              "          google.colab.kernel.accessAllowed ? 'block' : 'none';\n",
              "\n",
              "        async function convertToInteractive(key) {\n",
              "          const element = document.querySelector('#df-791246d3-3313-4250-9828-f3d5cfdc5cee');\n",
              "          const dataTable =\n",
              "            await google.colab.kernel.invokeFunction('convertToInteractive',\n",
              "                                                     [key], {});\n",
              "          if (!dataTable) return;\n",
              "\n",
              "          const docLinkHtml = 'Like what you see? Visit the ' +\n",
              "            '<a target=\"_blank\" href=https://colab.research.google.com/notebooks/data_table.ipynb>data table notebook</a>'\n",
              "            + ' to learn more about interactive tables.';\n",
              "          element.innerHTML = '';\n",
              "          dataTable['output_type'] = 'display_data';\n",
              "          await google.colab.output.renderOutput(dataTable, element);\n",
              "          const docLink = document.createElement('div');\n",
              "          docLink.innerHTML = docLinkHtml;\n",
              "          element.appendChild(docLink);\n",
              "        }\n",
              "      </script>\n",
              "    </div>\n",
              "  </div>\n",
              "  "
            ],
            "text/plain": [
              "       engineSize\n",
              "0             2.0\n",
              "1             1.6\n",
              "2             1.5\n",
              "3             1.5\n",
              "4             1.0\n",
              "...           ...\n",
              "59995         2.0\n",
              "59996         2.0\n",
              "59997         2.0\n",
              "59998         1.0\n",
              "59999         3.0\n",
              "\n",
              "[60000 rows x 1 columns]"
            ]
          },
          "metadata": {},
          "execution_count": 233
        }
      ]
    },
    {
      "cell_type": "code",
      "source": [
        "df_train['brand'].value_counts()"
      ],
      "metadata": {
        "id": "r84KmxTY_N-X",
        "colab": {
          "base_uri": "https://localhost:8080/"
        },
        "outputId": "b2f0b751-9792-4bee-a8ab-29666a6ffc8c"
      },
      "execution_count": null,
      "outputs": [
        {
          "output_type": "execute_result",
          "data": {
            "text/plain": [
              "ford      12577\n",
              "vw        10653\n",
              "merc       9142\n",
              "audi       7529\n",
              "bmw        7485\n",
              "toyota     4723\n",
              "skoda      4453\n",
              "hyundi     3372\n",
              "Name: brand, dtype: int64"
            ]
          },
          "metadata": {},
          "execution_count": 234
        }
      ]
    },
    {
      "cell_type": "code",
      "source": [
        "df_train['model'].value_counts()"
      ],
      "metadata": {
        "colab": {
          "base_uri": "https://localhost:8080/"
        },
        "id": "2NQVrz3N1ciG",
        "outputId": "7e28510c-bfa1-42a9-b1b9-26aed18122e1"
      },
      "execution_count": null,
      "outputs": [
        {
          "output_type": "execute_result",
          "data": {
            "text/plain": [
              " Fiesta       4569\n",
              " Golf         3445\n",
              " Focus        3214\n",
              " C Class      2596\n",
              " Polo         2279\n",
              "              ... \n",
              " CLC Class       1\n",
              "180              1\n",
              " Streetka        1\n",
              " R Class         1\n",
              " RS7             1\n",
              "Name: model, Length: 171, dtype: int64"
            ]
          },
          "metadata": {},
          "execution_count": 235
        }
      ]
    },
    {
      "cell_type": "code",
      "source": [
        "from numpy.core.numeric import NaN\n",
        "def unique(pred):\n",
        "    # initialize an empty list\n",
        "    unique_list = []\n",
        "     \n",
        "    # traverse for all elements\n",
        "    for x in pred:\n",
        "        # check if exists in unique_list or not\n",
        "        if x not in unique_list:\n",
        "            unique_list.append(x)\n",
        "    # print list\n",
        "    return unique_list\n",
        "\n",
        "def find_brand_names(after_dict_list):\n",
        "  brand_names=[]\n",
        "  for element in after_dict_list:\n",
        "    if element[0] not in brand_names:\n",
        "      if str(element[0]) != \"nan\":\n",
        "        brand_names.append(element[0])\n",
        "  return brand_names\n",
        "\n",
        "def dictionary_most_common_model_from_brand(brand_names, prev_dict_list, after_dict_list):\n",
        "  volkswagen = []\n",
        "  audi = []\n",
        "  ford = []\n",
        "  toyota = []\n",
        "  hyundai =[]\n",
        "  mercedes = []\n",
        "  bmw =[]\n",
        "  skoda =[]\n",
        "\n",
        "  for element in after_dict_list:\n",
        "      if element[0] == brand_names[0]:\n",
        "        if element[0] not in volkswagen:\n",
        "          volkswagen.append(brand_names[0])\n",
        "      elif element[0] == brand_names[1]:\n",
        "        if element[0] not in audi:\n",
        "          audi.append(brand_names[1])\n",
        "      elif element[0] == brand_names[2]:\n",
        "        if element[0] not in ford:\n",
        "          ford.append(brand_names[2])\n",
        "      elif element[0] == brand_names[3]:\n",
        "        if element[0] not in toyota:\n",
        "          toyota.append(brand_names[3])\n",
        "      elif element[0] == brand_names[4]:\n",
        "        if element[0] not in hyundai:\n",
        "          hyundai.append(brand_names[4])\n",
        "      elif element[0] == brand_names[5]:\n",
        "        if element[0] not in mercedes:\n",
        "          mercedes.append(brand_names[5])\n",
        "      elif element[0] ==  brand_names[6]:\n",
        "        if element[0] not in bmw:\n",
        "          bmw.append(brand_names[6])\n",
        "      elif element[0] == brand_names[7]:\n",
        "        if element[0] not in skoda:\n",
        "          skoda.append(brand_names[7])\n",
        "\n",
        "  for value_element in prev_dict_list:\n",
        "    if value_element[0] == volkswagen[0]:\n",
        "      if str(value_element[1]) != \"nan\":\n",
        "        volkswagen.append(value_element[1])\n",
        "    elif value_element[0] == audi[0]:\n",
        "      if str(value_element[1]) != \"nan\":\n",
        "        audi.append(value_element[1])\n",
        "    if value_element[0] == ford[0]:\n",
        "      if str(value_element[1]) != \"nan\":\n",
        "        ford.append(value_element[1])\n",
        "    if value_element[0] == toyota[0]:\n",
        "      if str(value_element[1]) != \"nan\":\n",
        "        toyota.append(value_element[1])\n",
        "    if value_element[0] == hyundai[0]:\n",
        "      if str(value_element[1]) != \"nan\":\n",
        "        hyundai.append(value_element[1])\n",
        "    if value_element[0] == mercedes[0]:\n",
        "      if str(value_element[1]) != \"nan\":\n",
        "        mercedes.append(value_element[1])\n",
        "    if value_element[0] == bmw[0]:\n",
        "      if str(value_element[1]) != \"nan\":\n",
        "        bmw.append(value_element[1])\n",
        "    if value_element[0] == skoda[0]:\n",
        "      if str(value_element[1]) != \"nan\":\n",
        "        skoda.append(value_element[1])\n",
        "  \n",
        "  occurrences_volkswagen = Counter(volkswagen)\n",
        "  most_volkswagen = occurrences_volkswagen.most_common(1)\n",
        "\n",
        "  occurrences_audi = Counter(audi)\n",
        "  most_audi = occurrences_audi.most_common(1)\n",
        "\n",
        "  occurrences_ford = Counter(ford)\n",
        "  most_ford = occurrences_ford.most_common(1)\n",
        "\n",
        "  occurrences_toyota = Counter(toyota)\n",
        "  most_toyota = occurrences_toyota.most_common(1)\n",
        "\n",
        "  occurrences_hyundai = Counter(hyundai)\n",
        "  most_hyundai = occurrences_hyundai.most_common(1)\n",
        "\n",
        "  occurrences_mercedes = Counter(mercedes)\n",
        "  most_mercedes = occurrences_mercedes.most_common(1)\n",
        "\n",
        "  occurrences_bmw = Counter(bmw)\n",
        "  most_common_bmw = max(occurrences_bmw, key=occurrences_bmw.get)\n",
        "  most_bmw = occurrences_bmw.most_common(1)\n",
        "\n",
        "  occurrences_skoda = Counter(skoda)\n",
        "  most_common_skoda = max(occurrences_skoda, key=occurrences_skoda.get)\n",
        "  most_skoda = occurrences_skoda.most_common(1)\n",
        "    \n",
        "\n",
        "  keys = brand_names\n",
        "  values = [most_volkswagen[0][0],most_audi[0][0],most_ford[0][0],most_toyota[0][0], most_hyundai[0][0],most_mercedes[0][0],most_common_bmw, most_common_skoda]\n",
        "  \n",
        "  mcmpb = dict(zip(keys, zip(values)))\n",
        "  return mcmpb\n",
        "\n",
        "prev_dict_list = list(zip(df_train.brand, df_train.model))\n",
        "after_dict_list = unique(prev_dict_list)\n",
        "\n",
        "print(\"Before: \", len(prev_dict_list), \" After: \", len(after_dict_list))\n",
        "\n",
        "\n",
        "\n",
        "brands = find_brand_names(after_dict_list)\n",
        "print(\"Brand Names: \", brands)\n",
        "\n",
        "mcmpb = dictionary_most_common_model_from_brand(brands, prev_dict_list, after_dict_list)\n",
        "mcmpb"
      ],
      "metadata": {
        "colab": {
          "base_uri": "https://localhost:8080/"
        },
        "id": "xbSvgc3mHhJ3",
        "outputId": "eab191a2-1402-48dd-bb7e-1e70bb0b5c22"
      },
      "execution_count": null,
      "outputs": [
        {
          "output_type": "stream",
          "name": "stdout",
          "text": [
            "Before:  60000  After:  216\n",
            "Brand Names:  ['vw', 'audi', 'ford', 'toyota', 'hyundi', 'merc', 'bmw', 'skoda']\n"
          ]
        },
        {
          "output_type": "execute_result",
          "data": {
            "text/plain": [
              "{'audi': (' A3',),\n",
              " 'bmw': (' 3 Series',),\n",
              " 'ford': (' Fiesta',),\n",
              " 'hyundi': (' Tucson',),\n",
              " 'merc': (' C Class',),\n",
              " 'skoda': (' Fabia',),\n",
              " 'toyota': (' Yaris',),\n",
              " 'vw': (' Golf',)}"
            ]
          },
          "metadata": {},
          "execution_count": 236
        }
      ]
    },
    {
      "cell_type": "code",
      "source": [
        "index_model_list= df_train[df_train['model'].isnull()].index.tolist()\n",
        "\n",
        "for i in index_model_list:\n",
        "  if df_train['model'].isnull()[i] and df_train['brand'].notnull()[i]:\n",
        "    df_train['model'][i] = mcmpb[df_train['brand'][i]][0]\n",
        "\n",
        "df_train[\"model\"].isnull().sum()"
      ],
      "metadata": {
        "colab": {
          "base_uri": "https://localhost:8080/"
        },
        "id": "FOkPWi-ws5qj",
        "outputId": "916f9c8d-d5fb-43e8-ce6a-b1ab8ec5bdfb"
      },
      "execution_count": null,
      "outputs": [
        {
          "output_type": "stream",
          "name": "stderr",
          "text": [
            "/usr/local/lib/python3.7/dist-packages/ipykernel_launcher.py:5: SettingWithCopyWarning: \n",
            "A value is trying to be set on a copy of a slice from a DataFrame\n",
            "\n",
            "See the caveats in the documentation: https://pandas.pydata.org/pandas-docs/stable/user_guide/indexing.html#returning-a-view-versus-a-copy\n",
            "  \"\"\"\n"
          ]
        },
        {
          "output_type": "execute_result",
          "data": {
            "text/plain": [
              "0"
            ]
          },
          "metadata": {},
          "execution_count": 237
        }
      ]
    },
    {
      "cell_type": "code",
      "source": [
        "from numpy.core.numeric import NaN\n",
        "def unique(pred):\n",
        "    # initialize an empty list\n",
        "    unique_list = []\n",
        "     \n",
        "    # traverse for all elements\n",
        "    for x in pred:\n",
        "        # check if exists in unique_list or not\n",
        "        if x not in unique_list:\n",
        "            unique_list.append(x)\n",
        "    # print list\n",
        "    return unique_list\n",
        "\n",
        "def find_brand_names(after_dict_list):\n",
        "  brand_names=[]\n",
        "  for element in after_dict_list:\n",
        "    if element[0] not in brand_names:\n",
        "      if str(element[0]) != \"nan\":\n",
        "        brand_names.append(element[0])\n",
        "  return brand_names\n",
        "\n",
        "def dictionary_model_to_brand(brand_names, prev_dict_list, after_dict_list):\n",
        "  volkswagen = []\n",
        "  audi = []\n",
        "  ford = []\n",
        "  toyota = []\n",
        "  hyundai =[]\n",
        "  mercedes = []\n",
        "  bmw =[]\n",
        "  skoda =[]\n",
        "\n",
        "  for element in after_dict_list:\n",
        "      if element[0] == brand_names[0]:\n",
        "        if element[0] not in volkswagen:\n",
        "          volkswagen.append(brand_names[0])\n",
        "      elif element[0] == brand_names[1]:\n",
        "        if element[0] not in audi:\n",
        "          audi.append(brand_names[1])\n",
        "      elif element[0] == brand_names[2]:\n",
        "        if element[0] not in ford:\n",
        "          ford.append(brand_names[2])\n",
        "      elif element[0] == brand_names[3]:\n",
        "        if element[0] not in toyota:\n",
        "          toyota.append(brand_names[3])\n",
        "      elif element[0] == brand_names[4]:\n",
        "        if element[0] not in hyundai:\n",
        "          hyundai.append(brand_names[4])\n",
        "      elif element[0] == brand_names[5]:\n",
        "        if element[0] not in mercedes:\n",
        "          mercedes.append(brand_names[5])\n",
        "      elif element[0] ==  brand_names[6]:\n",
        "        if element[0] not in bmw:\n",
        "          bmw.append(brand_names[6])\n",
        "      elif element[0] == brand_names[7]:\n",
        "        if element[0] not in skoda:\n",
        "          skoda.append(brand_names[7])\n",
        "\n",
        "  for value_element in after_dict_list:\n",
        "    if value_element[0] == volkswagen[0]:\n",
        "      if str(value_element[1]) != \"nan\":\n",
        "        volkswagen.append(value_element[1])\n",
        "    elif value_element[0] == audi[0]:\n",
        "      if str(value_element[1]) != \"nan\":\n",
        "        audi.append(value_element[1])\n",
        "    if value_element[0] == ford[0]:\n",
        "      if str(value_element[1]) != \"nan\":\n",
        "        ford.append(value_element[1])\n",
        "    if value_element[0] == toyota[0]:\n",
        "      if str(value_element[1]) != \"nan\":\n",
        "        toyota.append(value_element[1])\n",
        "    if value_element[0] == hyundai[0]:\n",
        "      if str(value_element[1]) != \"nan\":\n",
        "        hyundai.append(value_element[1])\n",
        "    if value_element[0] == mercedes[0]:\n",
        "      if str(value_element[1]) != \"nan\":\n",
        "        mercedes.append(value_element[1])\n",
        "    if value_element[0] == bmw[0]:\n",
        "      if str(value_element[1]) != \"nan\":\n",
        "        bmw.append(value_element[1])\n",
        "    if value_element[0] == skoda[0]:\n",
        "      if str(value_element[1]) != \"nan\":\n",
        "        skoda.append(value_element[1])\n",
        "  \n",
        "\n",
        "  keys = []\n",
        "  for i in volkswagen[1:]:\n",
        "    keys.append(i)\n",
        "  for i in audi[1:]:\n",
        "    keys.append(i)\n",
        "  for i in ford[1:]:\n",
        "    keys.append(i)\n",
        "  for i in toyota[1:]:\n",
        "    keys.append(i)\n",
        "  for i in hyundai[1:]:\n",
        "    keys.append(i)\n",
        "  for i in mercedes[1:]:\n",
        "    keys.append(i)\n",
        "  for i in bmw[1:]:\n",
        "    keys.append(i)\n",
        "  for i in skoda[1:]:\n",
        "    keys.append(i)\n",
        "  \n",
        "  values = []\n",
        "  for i in range(0, len(volkswagen[1:])):\n",
        "    values.append(volkswagen[0])\n",
        "  for i in range(0, len(audi[1:])):\n",
        "    values.append(audi[0])\n",
        "  for i in range(0, len(ford[1:])):\n",
        "    values.append(ford[0])\n",
        "  for i in range(0, len(toyota[1:])):\n",
        "    values.append(toyota[0])\n",
        "  for i in range(0, len(hyundai[1:])):\n",
        "    values.append(hyundai[0])\n",
        "  for i in range(0, len(mercedes[1:])):\n",
        "    values.append(mercedes[0])\n",
        "  for i in range(0, len(bmw[1:])):\n",
        "    values.append(bmw[0])\n",
        "  for i in range(0, len(skoda[1:])):\n",
        "    values.append(skoda[0])\n",
        "\n",
        "  dmtb = dict(zip(keys, zip(values)))\n",
        "  return dmtb\n",
        "\n",
        "\n",
        "after_dict_list = unique(prev_dict_list)\n",
        "\n",
        "brands = find_brand_names(after_dict_list)\n",
        "print(\"Brand Names: \", brands)\n",
        "\n",
        "dmtb = dictionary_model_to_brand(brands, prev_dict_list, after_dict_list)\n",
        "\n"
      ],
      "metadata": {
        "colab": {
          "base_uri": "https://localhost:8080/"
        },
        "id": "R3u2ODk7v9LD",
        "outputId": "f393b55e-57df-4fdc-ba6c-01db8005294b"
      },
      "execution_count": null,
      "outputs": [
        {
          "output_type": "stream",
          "name": "stdout",
          "text": [
            "Brand Names:  ['vw', 'audi', 'ford', 'toyota', 'hyundi', 'merc', 'bmw', 'skoda']\n"
          ]
        }
      ]
    },
    {
      "cell_type": "code",
      "source": [
        "index_brand_list= df_train[df_train['brand'].isnull()].index.tolist()\n",
        "\n",
        "for i in index_brand_list:\n",
        "  if df_train['brand'].isnull()[i] and df_train['model'].notnull()[i]:\n",
        "    df_train['brand'][i] = dmtb[df_train['model'][i]][0]\n",
        "\n",
        "df_train[\"brand\"].isnull().sum()"
      ],
      "metadata": {
        "colab": {
          "base_uri": "https://localhost:8080/"
        },
        "id": "QXHJ5sKbyxyf",
        "outputId": "cd768025-8e96-47e4-cc84-430aca665370"
      },
      "execution_count": null,
      "outputs": [
        {
          "output_type": "stream",
          "name": "stderr",
          "text": [
            "/usr/local/lib/python3.7/dist-packages/ipykernel_launcher.py:5: SettingWithCopyWarning: \n",
            "A value is trying to be set on a copy of a slice from a DataFrame\n",
            "\n",
            "See the caveats in the documentation: https://pandas.pydata.org/pandas-docs/stable/user_guide/indexing.html#returning-a-view-versus-a-copy\n",
            "  \"\"\"\n"
          ]
        },
        {
          "output_type": "execute_result",
          "data": {
            "text/plain": [
              "0"
            ]
          },
          "metadata": {},
          "execution_count": 239
        }
      ]
    },
    {
      "cell_type": "code",
      "source": [
        "df_train['tax(£)'] = df_train['tax(£)'].fillna(0)\n",
        "df_train['tax'] = df_train['tax'].fillna(0)"
      ],
      "metadata": {
        "id": "as7kZaQb1534"
      },
      "execution_count": null,
      "outputs": []
    },
    {
      "cell_type": "code",
      "source": [
        "df_train[\"mileage\"].isnull().sum() #66 missing values in mileage"
      ],
      "metadata": {
        "colab": {
          "base_uri": "https://localhost:8080/"
        },
        "id": "P1cejBeu19qc",
        "outputId": "4347958b-0513-4a45-bed1-55ba7badc158"
      },
      "execution_count": null,
      "outputs": [
        {
          "output_type": "execute_result",
          "data": {
            "text/plain": [
              "66"
            ]
          },
          "metadata": {},
          "execution_count": 241
        }
      ]
    },
    {
      "cell_type": "code",
      "source": [
        "index = df_train[\"mileage\"].index[df_train[\"mileage\"].apply(np.isnan)]\n",
        "index #the index values of missing ones listed"
      ],
      "metadata": {
        "colab": {
          "base_uri": "https://localhost:8080/"
        },
        "id": "BJl4hkRh1-nH",
        "outputId": "87ae418a-3182-42c4-b9d8-72d2607abf40"
      },
      "execution_count": null,
      "outputs": [
        {
          "output_type": "execute_result",
          "data": {
            "text/plain": [
              "Int64Index([  551,   640,   785,  3063,  3887,  4656,  5304,  6924,  7209,\n",
              "             7287,  9066,  9735, 10492, 12011, 13035, 14242, 14323, 15174,\n",
              "            15873, 16115, 16963, 17196, 18406, 18533, 20248, 21916, 23491,\n",
              "            26068, 26851, 28182, 28742, 28750, 30583, 31690, 31853, 32700,\n",
              "            32716, 33655, 33931, 34046, 35345, 36555, 37627, 37708, 37941,\n",
              "            39518, 39792, 40491, 40602, 41964, 42917, 42972, 43881, 46025,\n",
              "            48389, 48734, 50357, 52072, 53983, 55224, 55279, 56018, 56757,\n",
              "            56867, 57607, 57892],\n",
              "           dtype='int64')"
            ]
          },
          "metadata": {},
          "execution_count": 242
        }
      ]
    },
    {
      "cell_type": "code",
      "source": [
        "#mileage values are filled by considering negative correlation with price and year\n",
        "for i in index:\n",
        "  if df_train[\"year\"].notnull()[i] and df_train[\"price\"].notnull()[i]:\n",
        "    df_train[\"mileage\"][i]=round(df_train[\"year\"][i]*(1/0.74)+df_train[\"price\"][i]*(1/0.43))"
      ],
      "metadata": {
        "colab": {
          "base_uri": "https://localhost:8080/"
        },
        "id": "RkAJAmn-2Ccn",
        "outputId": "7f081691-c1ec-46b5-c69a-4725a4c74924"
      },
      "execution_count": null,
      "outputs": [
        {
          "output_type": "stream",
          "name": "stderr",
          "text": [
            "/usr/local/lib/python3.7/dist-packages/ipykernel_launcher.py:4: SettingWithCopyWarning: \n",
            "A value is trying to be set on a copy of a slice from a DataFrame\n",
            "\n",
            "See the caveats in the documentation: https://pandas.pydata.org/pandas-docs/stable/user_guide/indexing.html#returning-a-view-versus-a-copy\n",
            "  after removing the cwd from sys.path.\n"
          ]
        }
      ]
    },
    {
      "cell_type": "code",
      "source": [
        "df_train[\"mileage\"].isnull().sum()   #no null value exists result of changes "
      ],
      "metadata": {
        "colab": {
          "base_uri": "https://localhost:8080/"
        },
        "id": "xN_5SxfF2Etd",
        "outputId": "fdd28278-482b-4f25-bb09-af5d35ee74ff"
      },
      "execution_count": null,
      "outputs": [
        {
          "output_type": "execute_result",
          "data": {
            "text/plain": [
              "0"
            ]
          },
          "metadata": {},
          "execution_count": 244
        }
      ]
    },
    {
      "cell_type": "code",
      "source": [
        "df_train[\"mpg\"].isnull().sum() "
      ],
      "metadata": {
        "colab": {
          "base_uri": "https://localhost:8080/"
        },
        "id": "VgRpGmV42Kz-",
        "outputId": "8230bd3d-f2e8-466a-c09e-a5a38cecd378"
      },
      "execution_count": null,
      "outputs": [
        {
          "output_type": "execute_result",
          "data": {
            "text/plain": [
              "64"
            ]
          },
          "metadata": {},
          "execution_count": 245
        }
      ]
    },
    {
      "cell_type": "code",
      "source": [
        "missing_mpg = df_train[\"mpg\"].index[df_train[\"mpg\"].apply(np.isnan)]\n",
        "missing_mpg"
      ],
      "metadata": {
        "colab": {
          "base_uri": "https://localhost:8080/"
        },
        "id": "gOiHP4ne2Mbe",
        "outputId": "f2f011b6-a2bc-4ed1-e590-ba650e898912"
      },
      "execution_count": null,
      "outputs": [
        {
          "output_type": "execute_result",
          "data": {
            "text/plain": [
              "Int64Index([   18,    70,   107,   215,   401,  2558,  4153,  4996,  8632,\n",
              "            10677, 11479, 12069, 13065, 18302, 18836, 19825, 20229, 20442,\n",
              "            20980, 21238, 22122, 23424, 23511, 24392, 25632, 26020, 28869,\n",
              "            28891, 30729, 31648, 34722, 35153, 35651, 38109, 38369, 39717,\n",
              "            39932, 40761, 41176, 42687, 42757, 43321, 43535, 43590, 44372,\n",
              "            45495, 45513, 46005, 46319, 47016, 47959, 49007, 50628, 50752,\n",
              "            51367, 51814, 52207, 52702, 53622, 53651, 54775, 56606, 58610,\n",
              "            59184],\n",
              "           dtype='int64')"
            ]
          },
          "metadata": {},
          "execution_count": 246
        }
      ]
    },
    {
      "cell_type": "code",
      "source": [
        "#mpg values are filled by considering positive correlation with mileage and negative correlation with tax (for two columns)\n",
        "for i in missing_mpg:\n",
        "  if df_train[\"mileage\"].notnull()[i] and df_train[\"tax\"][i]==0:\n",
        "    df_train[\"mpg\"][i]=round(df_train[\"mileage\"][i]*0.18+df_train[\"tax(£)\"][i]*(1/0.48))\n",
        "  elif df_train[\"mileage\"].notnull()[i] and df_train[\"tax(£)\"][i]==0:\n",
        "    df_train[\"mpg\"][i]=round(df_train[\"mileage\"][i]*0.18+df_train[\"tax\"][i]*(1/0.44))"
      ],
      "metadata": {
        "colab": {
          "base_uri": "https://localhost:8080/"
        },
        "id": "eBuzqA-r2RFV",
        "outputId": "cec3d567-b263-44a9-c9ef-7d0ff3fda4dc"
      },
      "execution_count": null,
      "outputs": [
        {
          "output_type": "stream",
          "name": "stderr",
          "text": [
            "/usr/local/lib/python3.7/dist-packages/ipykernel_launcher.py:6: SettingWithCopyWarning: \n",
            "A value is trying to be set on a copy of a slice from a DataFrame\n",
            "\n",
            "See the caveats in the documentation: https://pandas.pydata.org/pandas-docs/stable/user_guide/indexing.html#returning-a-view-versus-a-copy\n",
            "  \n",
            "/usr/local/lib/python3.7/dist-packages/ipykernel_launcher.py:4: SettingWithCopyWarning: \n",
            "A value is trying to be set on a copy of a slice from a DataFrame\n",
            "\n",
            "See the caveats in the documentation: https://pandas.pydata.org/pandas-docs/stable/user_guide/indexing.html#returning-a-view-versus-a-copy\n",
            "  after removing the cwd from sys.path.\n"
          ]
        }
      ]
    },
    {
      "cell_type": "code",
      "source": [
        "df_train[\"mpg\"].isnull().sum() "
      ],
      "metadata": {
        "colab": {
          "base_uri": "https://localhost:8080/"
        },
        "id": "Qj6t8OGm2TPO",
        "outputId": "13028f53-095f-4894-8cf4-ee91b0aa9701"
      },
      "execution_count": null,
      "outputs": [
        {
          "output_type": "execute_result",
          "data": {
            "text/plain": [
              "0"
            ]
          },
          "metadata": {},
          "execution_count": 248
        }
      ]
    },
    {
      "cell_type": "code",
      "source": [
        "prev_dict_list_year=list(zip(df_train.brand, df_train.model,df_train.year))\n",
        "after_dict_list_year = unique(prev_dict_list_year)\n",
        "for i in range(len(after_dict_list_year)):\n",
        "  if after_dict_list_year[i][2]=='nan':\n",
        "    del after_dict_list_year  #remove the ones that has nan year"
      ],
      "metadata": {
        "id": "nTQAYUMg6_rk"
      },
      "execution_count": null,
      "outputs": []
    },
    {
      "cell_type": "code",
      "source": [
        "list_brand_model=[]\n",
        "for i in after_dict_list_year:\n",
        "  list_temp=[]\n",
        "  list_temp.append(i[0])\n",
        "  list_temp.append(i[1])\n",
        "  list_brand_model.append(list_temp)"
      ],
      "metadata": {
        "id": "YVPEEqS6AKIE"
      },
      "execution_count": null,
      "outputs": []
    },
    {
      "cell_type": "code",
      "source": [
        "unique_brand_model=unique(list_brand_model)"
      ],
      "metadata": {
        "id": "z2dAewBzATnt"
      },
      "execution_count": null,
      "outputs": []
    },
    {
      "cell_type": "code",
      "source": [
        "list_corresponindg_year=[]\n",
        "for j in range(len(unique_brand_model)):\n",
        "     list_year=[]\n",
        "     for i in range(len(prev_dict_list_year)):\n",
        "       if(prev_dict_list_year[i][2]!=\"nan\"):\n",
        "         if (prev_dict_list_year[i][0]==unique_brand_model[j][0] and prev_dict_list_year[i][1]==unique_brand_model[j][1]):\n",
        "           list_year.append(prev_dict_list_year[i][2])\n",
        "     max_count=max(list_year,key=list_year.count)\n",
        "     list_corresponindg_year.append(max_count)"
      ],
      "metadata": {
        "id": "f6x8XDDSAXG9"
      },
      "execution_count": null,
      "outputs": []
    },
    {
      "cell_type": "code",
      "source": [
        "index_year_list= df_train[df_train['year'].isnull()].index.tolist()\n",
        "\n",
        "for i in index_year_list:\n",
        "  list_temp=[]\n",
        "  list_temp.append(df_train[\"brand\"][i])\n",
        "  list_temp.append(df_train[\"model\"][i])\n",
        "  index=unique_brand_model.index(list_temp)\n",
        "  df_train[\"year\"][i]=list_corresponindg_year[index]"
      ],
      "metadata": {
        "colab": {
          "base_uri": "https://localhost:8080/"
        },
        "id": "poBoOoi0Av2C",
        "outputId": "71698d95-d051-4e45-9eab-00b968162d38"
      },
      "execution_count": null,
      "outputs": [
        {
          "output_type": "stream",
          "name": "stderr",
          "text": [
            "/usr/local/lib/python3.7/dist-packages/ipykernel_launcher.py:8: SettingWithCopyWarning: \n",
            "A value is trying to be set on a copy of a slice from a DataFrame\n",
            "\n",
            "See the caveats in the documentation: https://pandas.pydata.org/pandas-docs/stable/user_guide/indexing.html#returning-a-view-versus-a-copy\n",
            "  \n"
          ]
        }
      ]
    },
    {
      "cell_type": "code",
      "source": [
        "df_train[\"year\"].isnull().sum()"
      ],
      "metadata": {
        "colab": {
          "base_uri": "https://localhost:8080/"
        },
        "id": "OW5btCKHBH_V",
        "outputId": "d1052ec6-97b4-41f2-a7ce-4de220f9a0f8"
      },
      "execution_count": null,
      "outputs": [
        {
          "output_type": "execute_result",
          "data": {
            "text/plain": [
              "0"
            ]
          },
          "metadata": {},
          "execution_count": 254
        }
      ]
    },
    {
      "cell_type": "code",
      "source": [
        "prev_dict_list_transmission=list(zip(df_train.brand, df_train.model,df_train.transmission))\n",
        "after_dict_list_transmission = unique(prev_dict_list_transmission)\n",
        "for i in range(len(after_dict_list_transmission)):\n",
        "  if after_dict_list_transmission[i][2]=='nan':\n",
        "    del after_dict_list_transmission  #remove the ones that has nan transmission"
      ],
      "metadata": {
        "id": "rioyVusJBL2t"
      },
      "execution_count": null,
      "outputs": []
    },
    {
      "cell_type": "code",
      "source": [
        "list_corresponding_transmission=[]\n",
        "for j in range(len(unique_brand_model)):\n",
        "     list_transmission=[]\n",
        "     for i in range(len(prev_dict_list_transmission)):\n",
        "       if(prev_dict_list_transmission[i][2]!=\"nan\"):\n",
        "         if (prev_dict_list_transmission[i][0]==unique_brand_model[j][0] and prev_dict_list_transmission[i][1]==unique_brand_model[j][1]):\n",
        "           list_transmission.append(prev_dict_list_transmission[i][2])\n",
        "     max_count=max(list_transmission,key=list_transmission.count)\n",
        "     list_corresponding_transmission.append(max_count)"
      ],
      "metadata": {
        "id": "1TyAaMOSB1hW"
      },
      "execution_count": null,
      "outputs": []
    },
    {
      "cell_type": "code",
      "source": [
        "index_list_transmission= df_train[df_train['transmission'].isnull()].index.tolist()\n",
        "\n",
        "for i in index_list_transmission:\n",
        "  list_temp=[]\n",
        "  list_temp.append(df_train[\"brand\"][i])\n",
        "  list_temp.append(df_train[\"model\"][i])\n",
        "  index=unique_brand_model.index(list_temp)\n",
        "  df_train[\"transmission\"][i]=list_corresponding_transmission[index]"
      ],
      "metadata": {
        "colab": {
          "base_uri": "https://localhost:8080/"
        },
        "id": "8rlp39DpCOLa",
        "outputId": "026ae565-b66f-4557-e88d-de3ecab58af4"
      },
      "execution_count": null,
      "outputs": [
        {
          "output_type": "stream",
          "name": "stderr",
          "text": [
            "/usr/local/lib/python3.7/dist-packages/ipykernel_launcher.py:8: SettingWithCopyWarning: \n",
            "A value is trying to be set on a copy of a slice from a DataFrame\n",
            "\n",
            "See the caveats in the documentation: https://pandas.pydata.org/pandas-docs/stable/user_guide/indexing.html#returning-a-view-versus-a-copy\n",
            "  \n"
          ]
        }
      ]
    },
    {
      "cell_type": "code",
      "source": [
        "df_train[\"transmission\"].isnull().sum()\n",
        "#Mercedes CLC Class discard edilecek\n",
        "#Daha öncden herhangi bir veri bulunamadı\n",
        "#Araştırmalar göre manual ya da automatic ataması yapılabilir"
      ],
      "metadata": {
        "colab": {
          "base_uri": "https://localhost:8080/"
        },
        "id": "vOm_wlxiCi7q",
        "outputId": "d3a9af1b-3c85-4138-c143-c1a65ec808de"
      },
      "execution_count": null,
      "outputs": [
        {
          "output_type": "execute_result",
          "data": {
            "text/plain": [
              "1"
            ]
          },
          "metadata": {},
          "execution_count": 258
        }
      ]
    },
    {
      "cell_type": "code",
      "source": [
        "prev_dict_list_fuelType=list(zip(df_train.brand, df_train.model,df_train.fuelType))\n",
        "after_dict_list_fuelType=unique(prev_dict_list_fuelType)\n",
        "for i in range(len(after_dict_list_fuelType)):\n",
        "  if after_dict_list_fuelType[i][2]=='nan':\n",
        "    del after_dict_list_fuelType  #remove the ones that has nan fueltype"
      ],
      "metadata": {
        "id": "W2_IuIw_JX8u"
      },
      "execution_count": null,
      "outputs": []
    },
    {
      "cell_type": "code",
      "source": [
        "list_corresponding_fuel=[]\n",
        "for j in range(len(unique_brand_model)):\n",
        "     list_fuelTypes=[]\n",
        "     for i in range(len(prev_dict_list_fuelType)):\n",
        "       if(prev_dict_list_fuelType[i][2]!=\"nan\"):\n",
        "         if (prev_dict_list_fuelType[i][0]==unique_brand_model[j][0] and prev_dict_list_fuelType[i][1]==unique_brand_model[j][1]):\n",
        "           list_fuelTypes.append(prev_dict_list_fuelType[i][2])\n",
        "     max_count=max(list_fuelTypes,key=list_fuelTypes.count)\n",
        "     list_corresponding_fuel.append(max_count)"
      ],
      "metadata": {
        "id": "5GEE0AB_Jedg"
      },
      "execution_count": null,
      "outputs": []
    },
    {
      "cell_type": "code",
      "source": [
        "index_fuelType_list= df_train[df_train['fuelType'].isnull()].index.tolist()\n",
        "\n",
        "for i in index_fuelType_list:\n",
        "  list_temp=[]\n",
        "  list_temp.append(df_train[\"brand\"][i])\n",
        "  list_temp.append(df_train[\"model\"][i])\n",
        "  index=unique_brand_model.index(list_temp)\n",
        "  df_train[\"fuelType\"][i]=list_corresponding_fuel[index]"
      ],
      "metadata": {
        "colab": {
          "base_uri": "https://localhost:8080/"
        },
        "id": "DqTKj9XWJnDk",
        "outputId": "07e6bbe9-e24d-4618-8ac5-6b89802c7dbf"
      },
      "execution_count": null,
      "outputs": [
        {
          "output_type": "stream",
          "name": "stderr",
          "text": [
            "/usr/local/lib/python3.7/dist-packages/ipykernel_launcher.py:8: SettingWithCopyWarning: \n",
            "A value is trying to be set on a copy of a slice from a DataFrame\n",
            "\n",
            "See the caveats in the documentation: https://pandas.pydata.org/pandas-docs/stable/user_guide/indexing.html#returning-a-view-versus-a-copy\n",
            "  \n"
          ]
        }
      ]
    },
    {
      "cell_type": "code",
      "source": [
        "df_train[\"fuelType\"].isnull().sum()"
      ],
      "metadata": {
        "colab": {
          "base_uri": "https://localhost:8080/"
        },
        "id": "fq4lje2sJqoW",
        "outputId": "a1533a05-2a22-48f4-ef45-76042065ebb4"
      },
      "execution_count": null,
      "outputs": [
        {
          "output_type": "execute_result",
          "data": {
            "text/plain": [
              "0"
            ]
          },
          "metadata": {},
          "execution_count": 262
        }
      ]
    },
    {
      "cell_type": "code",
      "source": [
        "import math\n",
        "prev_dict_list_engineSize=list(zip(df_train.brand, df_train.model,df_train.engineSize))\n",
        "engineSizeValues=[]\n",
        "for i in prev_dict_list_engineSize:\n",
        "  if i[2] not in engineSizeValues:\n",
        "    if math.isnan(i[2]) is not True:\n",
        "      engineSizeValues.append(i[2])    #find engine size values"
      ],
      "metadata": {
        "id": "mnxQE-EyJtEg"
      },
      "execution_count": null,
      "outputs": []
    },
    {
      "cell_type": "code",
      "source": [
        "#corresponding average engine size for unique_brand_model\n",
        "avg_engineSize=[]\n",
        "for i in unique_brand_model:\n",
        "  totalEngineSize=0\n",
        "  avgEngineSize=0\n",
        "  count=0\n",
        "  for j in prev_dict_list_engineSize:\n",
        "    if (math.isnan(j[2])) is not True:\n",
        "      if(i[0]==j[0] and i[1]==j[1]):\n",
        "        totalEngineSize=totalEngineSize+j[2]\n",
        "        count+=1\n",
        "  avgEngineSize=totalEngineSize/count\n",
        "  avg_engineSize.append(round(avgEngineSize, 1))"
      ],
      "metadata": {
        "id": "3bDRoy6PJwxA"
      },
      "execution_count": null,
      "outputs": []
    },
    {
      "cell_type": "code",
      "source": [
        "index_engineSize_list= df_train[df_train['engineSize'].isnull()].index.tolist()\n",
        "\n",
        "for i in index_engineSize_list:\n",
        "  list_temp=[]\n",
        "  list_temp.append(df_train[\"brand\"][i])\n",
        "  list_temp.append(df_train[\"model\"][i])\n",
        "  index=unique_brand_model.index(list_temp)\n",
        "  df_train[\"engineSize\"][i]=avg_engineSize[index]"
      ],
      "metadata": {
        "colab": {
          "base_uri": "https://localhost:8080/"
        },
        "id": "IDmxHMe9J0Bu",
        "outputId": "e67b2fa8-6df7-486b-d41a-a67b474992fe"
      },
      "execution_count": null,
      "outputs": [
        {
          "output_type": "stream",
          "name": "stderr",
          "text": [
            "/usr/local/lib/python3.7/dist-packages/ipykernel_launcher.py:8: SettingWithCopyWarning: \n",
            "A value is trying to be set on a copy of a slice from a DataFrame\n",
            "\n",
            "See the caveats in the documentation: https://pandas.pydata.org/pandas-docs/stable/user_guide/indexing.html#returning-a-view-versus-a-copy\n",
            "  \n"
          ]
        }
      ]
    },
    {
      "cell_type": "code",
      "source": [
        "df_train[\"engineSize\"].isnull().sum()"
      ],
      "metadata": {
        "colab": {
          "base_uri": "https://localhost:8080/"
        },
        "id": "V-sPOu6VJ2d9",
        "outputId": "5d1f4d15-787e-4790-95c5-f0a97259d489"
      },
      "execution_count": null,
      "outputs": [
        {
          "output_type": "execute_result",
          "data": {
            "text/plain": [
              "0"
            ]
          },
          "metadata": {},
          "execution_count": 266
        }
      ]
    },
    {
      "cell_type": "code",
      "source": [
        "df_train = df_train.drop(58303)"
      ],
      "metadata": {
        "id": "MvIZ8KheJ3da"
      },
      "execution_count": null,
      "outputs": []
    },
    {
      "cell_type": "code",
      "source": [
        "df_train[\"transmission\"].isnull().sum()"
      ],
      "metadata": {
        "colab": {
          "base_uri": "https://localhost:8080/"
        },
        "id": "mKBZsCTwKCYB",
        "outputId": "bfda5c8c-ebdb-420f-dda0-d7661af02e42"
      },
      "execution_count": null,
      "outputs": [
        {
          "output_type": "execute_result",
          "data": {
            "text/plain": [
              "0"
            ]
          },
          "metadata": {},
          "execution_count": 268
        }
      ]
    },
    {
      "cell_type": "code",
      "source": [
        "df_train.to_excel(\"output.xlsx\") \n",
        "from google.colab import files  #in order to see the filled values created excel file is downloaded.\n",
        "files.download(\"output.xlsx\") "
      ],
      "metadata": {
        "colab": {
          "base_uri": "https://localhost:8080/",
          "height": 17
        },
        "id": "3X2an0aX2VUc",
        "outputId": "7d6e0542-78e8-45f6-ab3b-071adb29fe95"
      },
      "execution_count": null,
      "outputs": [
        {
          "output_type": "display_data",
          "data": {
            "application/javascript": [
              "\n",
              "    async function download(id, filename, size) {\n",
              "      if (!google.colab.kernel.accessAllowed) {\n",
              "        return;\n",
              "      }\n",
              "      const div = document.createElement('div');\n",
              "      const label = document.createElement('label');\n",
              "      label.textContent = `Downloading \"${filename}\": `;\n",
              "      div.appendChild(label);\n",
              "      const progress = document.createElement('progress');\n",
              "      progress.max = size;\n",
              "      div.appendChild(progress);\n",
              "      document.body.appendChild(div);\n",
              "\n",
              "      const buffers = [];\n",
              "      let downloaded = 0;\n",
              "\n",
              "      const channel = await google.colab.kernel.comms.open(id);\n",
              "      // Send a message to notify the kernel that we're ready.\n",
              "      channel.send({})\n",
              "\n",
              "      for await (const message of channel.messages) {\n",
              "        // Send a message to notify the kernel that we're ready.\n",
              "        channel.send({})\n",
              "        if (message.buffers) {\n",
              "          for (const buffer of message.buffers) {\n",
              "            buffers.push(buffer);\n",
              "            downloaded += buffer.byteLength;\n",
              "            progress.value = downloaded;\n",
              "          }\n",
              "        }\n",
              "      }\n",
              "      const blob = new Blob(buffers, {type: 'application/binary'});\n",
              "      const a = document.createElement('a');\n",
              "      a.href = window.URL.createObjectURL(blob);\n",
              "      a.download = filename;\n",
              "      div.appendChild(a);\n",
              "      a.click();\n",
              "      div.remove();\n",
              "    }\n",
              "  "
            ],
            "text/plain": [
              "<IPython.core.display.Javascript object>"
            ]
          },
          "metadata": {}
        },
        {
          "output_type": "display_data",
          "data": {
            "application/javascript": [
              "download(\"download_bb348c6e-7c1d-497d-8f5b-b57c59cdc2a2\", \"output.xlsx\", 3520402)"
            ],
            "text/plain": [
              "<IPython.core.display.Javascript object>"
            ]
          },
          "metadata": {}
        }
      ]
    }
  ]
}